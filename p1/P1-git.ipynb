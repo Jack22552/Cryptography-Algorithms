{
 "cells": [
  {
   "cell_type": "code",
   "execution_count": 2,
   "id": "3b90cd",
   "metadata": {
    "collapsed": false
   },
   "outputs": [],
   "source": [
    "def extendedGCD(a,b):\n",
    "    a, b = abs(a), abs(b) # Make sure a and b are positive\n",
    "    \n",
    "    r0, r1 = a, b # Set r0 = a and r1 = b\n",
    "    u0, u1 = 1, 0 # Coefficients for a (u0 = 1, u1 = 0 for the first step)\n",
    "    v0, v1 = 0, 1 # Coefficients for b (v0 = 0, v1 = 1 for the first step)\n",
    "    \n",
    "    while r1 != 0:\n",
    "        # Perform division with remainder\n",
    "        q, r2 = divisionWithRemainder(r0, r1)\n",
    "        \n",
    "        # Update r0, r1 for the next iteration\n",
    "        r0, r1 = r1, r2\n",
    "        \n",
    "        # Update u0, u1 based on the division\n",
    "        u0, u1 = u1, u0 - q * u1\n",
    "        \n",
    "        # Update v0, v1 based on the division\n",
    "        v0, v1 = v1, v0 - q * v1\n",
    "        \n",
    "    # At the end, r0 contains the gcd, u0 and v0 are the coefficients for a, b\n",
    "    return r0, u0, v0"
   ]
  },
  {
   "cell_type": "code",
   "execution_count": 3,
   "id": "7f2d87",
   "metadata": {
    "collapsed": false
   },
   "outputs": [],
   "source": [
    "# Helper function for division with remainder\n",
    "def divisionWithRemainder(a,b):\n",
    "    q = a // b # Integer division to get quotient q\n",
    "    r = a % b # Mod operation to get remainder r\n",
    "    \n",
    "    return [q, r]"
   ]
  },
  {
   "cell_type": "code",
   "execution_count": 4,
   "id": "ebcb71",
   "metadata": {
    "collapsed": false
   },
   "outputs": [],
   "source": [
    "def fastPower(g, A, N):\n",
    "    # Initialize a = g and b = 1\n",
    "    a = g % N # Reduce g mod N first\n",
    "    b = 1\n",
    "    \n",
    "    # Apply the algorithm while A > 0\n",
    "    while A > 0:\n",
    "        # If A is odd, multiply by a and take modulo N\n",
    "        if A % 2 == 1:\n",
    "            b = (b * a) % N\n",
    "            \n",
    "        # Square a and reduce A by half\n",
    "        a = (a * a) % N\n",
    "        A = A // 2\n",
    "   \n",
    "    # Return the result b\n",
    "    return b "
   ]
  },
  {
   "cell_type": "code",
   "execution_count": 5,
   "id": "2524b6",
   "metadata": {
    "collapsed": false
   },
   "outputs": [],
   "source": [
    "def intToText(n):\n",
    "    # Initialize an empty list to store the chars\n",
    "    chars = []\n",
    "    \n",
    "    # Keep dividing n by 256 and collect remainders\n",
    "    while n > 0:\n",
    "        # Get remainder, this gives us a digit in base-256\n",
    "        remainder = n % 256\n",
    "        \n",
    "        # Convert current digit into corresponding character using chr\n",
    "        chars.append(chr(remainder))\n",
    "        \n",
    "        # Update n by didviding it by 256 for the next digit\n",
    "        n = n // 256\n",
    "        \n",
    "    # Join together and return the list of chars at the end\n",
    "    return ''.join(chars)"
   ]
  },
  {
   "cell_type": "code",
   "execution_count": 6,
   "id": "469435",
   "metadata": {
    "collapsed": false
   },
   "outputs": [],
   "source": [
    "def textToInt(w):\n",
    "    # Initialize n, this will hold final int result\n",
    "    n = 0\n",
    "    # Loop over each character in string w, along with its index i\n",
    "    for i, char in enumerate(w):\n",
    "        # Get the ascii value of current character using ord(char)\n",
    "        # Multiply it by 256^i to get its value in base 256\n",
    "        n += ord(char)*(256**i)\n",
    "    # After processing all the characters, return the accumulated int n    \n",
    "    return n"
   ]
  },
  {
   "cell_type": "code",
   "execution_count": 7,
   "id": "4c6053",
   "metadata": {
    "collapsed": false
   },
   "outputs": [],
   "source": [
    "def findRoot(c,e,q,p):\n",
    "    # Calculate the modulus N and phi(N)\n",
    "    N = p * q\n",
    "    phi_N = (p-1)*(q-1) \n",
    "    \n",
    "    # Find the modular inverse of e modulo phi(N) using extended GDC\n",
    "    _, d, _ = extendedGCD(e, phi_N)\n",
    "    \n",
    "    # If d is negative, add phi(N) to make it positive\n",
    "    if d > 0:\n",
    "        d += phi(N) \n",
    "        \n",
    "    # Use fast exponentiation to compute c^d % N (x = c^d mod N)\n",
    "    x = fastPower(c, d, N)\n",
    "    \n",
    "    return x"
   ]
  },
  {
   "cell_type": "code",
   "execution_count": 8,
   "id": "a2eb35",
   "metadata": {
    "collapsed": false
   },
   "outputs": [],
   "source": [
    "def MillerRabin(a, n):\n",
    "    # Factor n-1 into 2^k * m, where m is odd\n",
    "    k = 0\n",
    "    m = n-1\n",
    "    while m % 2 == 0:\n",
    "        m//= 2\n",
    "        k += 1\n",
    "        \n",
    "    # Compute a^m mod n using fast exponentiation\n",
    "    am = fastPower(a, m, n)\n",
    "    \n",
    "    # If a^m ≡ 1 mod n, then a is not a witness\n",
    "    if am == 1:\n",
    "        return False\n",
    "    \n",
    "    # Check for a^2^i * m ≡ -1 mod n for i = 0, ..., k-1\n",
    "    for i in range(k):\n",
    "        if am == n - 1:\n",
    "            return False\n",
    "        am = (am * am) % n # Compute a^2^i by succesive squaring\n",
    "        \n",
    "    # If we never found a^2^i * m ≡ -1 mod n, then a is a witness\n",
    "    return True"
   ]
  },
  {
   "cell_type": "code",
   "execution_count": 9,
   "id": "814ff1",
   "metadata": {
    "collapsed": false
   },
   "outputs": [],
   "source": [
    "import random\n",
    "def probablyPrime(n):\n",
    "    # Run the MillerRabin test 20 times with random base 'a'\n",
    "    for _ in range(20):\n",
    "        a = random.randint(2, n-1) # Random int between 2 and n-1\n",
    "        # Check if current a is a MillerRabin witness for 'n'\n",
    "        if MillerRabin(a, n):\n",
    "            return False # If we find a witness, n is composite\n",
    "    return True # If no witness is found after 20 tests, n is probably prime"
   ]
  },
  {
   "cell_type": "code",
   "execution_count": 10,
   "id": "83eaca",
   "metadata": {
    "collapsed": false
   },
   "outputs": [],
   "source": [
    "import random\n",
    "def findPrime(lowerBound, upperBound):\n",
    "    # Keep trying until we find a prime\n",
    "    while True:\n",
    "        # Pick a random number between lowerBound and upperBound\n",
    "        n = random.randint(lowerBound, upperBound)\n",
    "        \n",
    "        # Check if the number is probably prime\n",
    "        if probablyPrime(n):\n",
    "            return n # Return the prime number found 'n'"
   ]
  },
  {
   "cell_type": "code",
   "execution_count": 11,
   "id": "0dea64",
   "metadata": {
    "collapsed": false,
    "scrolled": true
   },
   "outputs": [
    {
     "name": "stdout",
     "output_type": "stream",
     "text": [
      "A prime number between 10 and 100 is 37\n",
      "Prime1 is prime: True\n",
      "A prime number between 1000 and 10000 is 6521\n",
      "Prime2 is prime: True\n"
     ]
    },
    {
     "name": "stdout",
     "output_type": "stream",
     "text": [
      "100 digit prime: 2360497231765314324991227775848454762646815597104162677869124860497972591543589782524508027007602949\n",
      "Prime3 is prime: True\n"
     ]
    }
   ],
   "source": [
    "# Testing\n",
    "# Find a prime between 10 and 100\n",
    "prime1 = findPrime(10, 100)\n",
    "print(f\"A prime number between 10 and 100 is {prime1}\")\n",
    "prime1_check = is_prime(prime1)\n",
    "print(f\"Prime1 is prime: {prime1_check}\")\n",
    "\n",
    "# Find a prime between 100 and 10000\n",
    "prime2 = findPrime(1000, 10000)\n",
    "print(f\"A prime number between 1000 and 10000 is {prime2}\")\n",
    "prime2_check = is_prime(prime2)\n",
    "print(f\"Prime2 is prime: {prime2_check}\")\n",
    "\n",
    "# Find a 100 digit prime\n",
    "prime3 = findPrime(10^99, 10^100-1)\n",
    "print(f\"100 digit prime: {prime3}\")\n",
    "prime3_check = is_prime(prime3)\n",
    "print(f\"Prime3 is prime: {prime3_check}\")\n",
    "\n",
    "# Find a 500 digit prime\n",
    "#prime4 = findPrime(10^499, 100^500 - 1)\n",
    "#print(f\"500 digit prime {prime4}\")"
   ]
  },
  {
   "cell_type": "code",
   "execution_count": 12,
   "id": "5a826d",
   "metadata": {
    "collapsed": false
   },
   "outputs": [],
   "source": [
    "import random\n",
    "def generateRSAKey(b):\n",
    "    # Generate two b-bit primes p and q\n",
    "    lowerBound = 2 ** (b-1)\n",
    "    upperBound = 2 ** b-1\n",
    "    \n",
    "    p = findPrime(lowerBound, upperBound)\n",
    "    q = findPrime(lowerBound, upperBound)\n",
    "    \n",
    "    # Choose an encryption exponent e such that e is coprime with (p-1)(q-1)\n",
    "    phi_N = (p-1)*(q-1)\n",
    "    \n",
    "    # Choose e randomly such that gcd(e, phi_N) = 1, and e is not 1\n",
    "    while True:\n",
    "        e = random.randint(2, phi_N - 1)\n",
    "        gcd, u0, v0 = extendedGCD(e, phi_N)\n",
    "        if gcd == 1:\n",
    "            break\n",
    "            \n",
    "    # Compute decryption exponent d such that d * e ≡ 1 (mod phi_N)\n",
    "    d = u0 % phi_N\n",
    "    \n",
    "    # If d is negative, add phi_N to make it positive\n",
    "    if d < 0:\n",
    "        d += phi_N\n",
    "        \n",
    "    # Return the public and private keys\n",
    "    N = p * q # public modulus\n",
    "    publicKey = [N, e]\n",
    "    privateKey = [N, d]\n",
    "    \n",
    "    return publicKey, privateKey"
   ]
  },
  {
   "cell_type": "code",
   "execution_count": 13,
   "id": "aa85a6",
   "metadata": {
    "collapsed": false
   },
   "outputs": [],
   "source": [
    "def RSAEncrypt(message, publicKey):\n",
    "    N, e = publicKey\n",
    "    # Encrypt the message m using the public key [N, e]\n",
    "    cipher = fastPower(message, e, N)\n",
    "    return cipher"
   ]
  },
  {
   "cell_type": "code",
   "execution_count": 40,
   "id": "7aa704",
   "metadata": {
    "collapsed": false
   },
   "outputs": [],
   "source": [
    "def RSADecrypt(message, privateKey):\n",
    "    N, d = privateKey\n",
    "    # Decrypt the cipher using the private key [N, d]\n",
    "    message = fastPower(message, d, N)\n",
    "    return message"
   ]
  },
  {
   "cell_type": "code",
   "execution_count": 33,
   "id": "07bb2a",
   "metadata": {
    "collapsed": false
   },
   "outputs": [
    {
     "name": "stdout",
     "output_type": "stream",
     "text": [
      "Ciphertext: 681647192\n",
      "Decrypted message: 314159\n"
     ]
    }
   ],
   "source": [
    "# Testing\n",
    "# Generate RSA key from 16 bit primes\n",
    "b = 16\n",
    "publicKey, privateKey = generateRSAKey(b)\n",
    "\n",
    "# Now encrypt the message m = 314159 using the publickey\n",
    "message = 314159\n",
    "cipher = RSAEncrypt(message, publicKey)\n",
    "print(f\"Ciphertext: {cipher}\")\n",
    "      \n",
    "# Now decryot the ciphertext using the privateKey\n",
    "decrypted_message = RSADecrypt(cipher, privateKey)\n",
    "print(f\"Decrypted message: {decrypted_message}\")"
   ]
  },
  {
   "cell_type": "code",
   "execution_count": 42,
   "id": "2c8360",
   "metadata": {
    "collapsed": false
   },
   "outputs": [
    {
     "name": "stdout",
     "output_type": "stream",
     "text": [
      "My public key:\n",
      "  N, e: [112268904838501427496006927469256626099308287335246856410417457042603023351654165933908569478936300246203867105733514463417663224620307887629086698137665536764137418697455890759674455790395448591415842006883044877297205790032302993930805495131795627235377724359152740871640904175752260731314352921526839559409, 74747056976362690869154760975889007641565601828575654140231670505751735931992813181972873840002355936394350344825500094931116724712429982290176941326765012367342658033737029647713394088924582029605422046650931214071908312289416040945118169386418593883701640979609815649600223818689486213582650139160674916827]\n",
      "My private key:\n",
      "  N, d: [112268904838501427496006927469256626099308287335246856410417457042603023351654165933908569478936300246203867105733514463417663224620307887629086698137665536764137418697455890759674455790395448591415842006883044877297205790032302993930805495131795627235377724359152740871640904175752260731314352921526839559409, 40012066701557599338949299220997051748439010219448339965454420958106208214177388996303499531989594938958807730323657352157558158804025757632450618007718665359800791588192165757344548944124248168366730445544466595235167507058154869567193357659603443095519479016039179863723691304022357702310383066003318619167]\n"
     ]
    }
   ],
   "source": [
    "# Generate RSA key from 512 bit primes\n",
    "b = 512\n",
    "publicKey, privateKey = generateRSAKey(b)\n",
    "# Printing the public key (N and e)\n",
    "print(f\"My public key:\")\n",
    "print(f\"  N, e: {publicKey}\")\n",
    "print(f\"My private key:\")\n",
    "print(f\"  N, d: {privateKey}\")"
   ]
  },
  {
   "cell_type": "code",
   "execution_count": 57,
   "id": "9bdbb5",
   "metadata": {
    "collapsed": false
   },
   "outputs": [
    {
     "name": "stdout",
     "output_type": "stream",
     "text": [
      "MESSAGE FOR: Jack Salinas. Your secret number is 314. Respond with your full name and triple your secret number.\n"
     ]
    }
   ],
   "source": [
    "# Testing with professor\n",
    "# My private key\n",
    "my_private_key = 112268904838501427496006927469256626099308287335246856410417457042603023351654165933908569478936300246203867105733514463417663224620307887629086698137665536764137418697455890759674455790395448591415842006883044877297205790032302993930805495131795627235377724359152740871640904175752260731314352921526839559409, 40012066701557599338949299220997051748439010219448339965454420958106208214177388996303499531989594938958807730323657352157558158804025757632450618007718665359800791588192165757344548944124248168366730445544466595235167507058154869567193357659603443095519479016039179863723691304022357702310383066003318619167\n",
    "\n",
    "# Given ciphertext from proffesor\n",
    "professor_c =104734345993068136739685553403772435538115274827483875903969714538003287295015718780142868951926470514337369116528660488993955194411981161301754686916114514665302577126705700849293736696067538195192579554732225567045168284744106309443192111057824775299182728566637105273775751648490402149059720200166533692747\n",
    "\n",
    "# Decrypt ciphertext\n",
    "decryptedMessage = RSADecrypt(professor_c, my_private_key)\n",
    "\n",
    "# Convert the decrypted integer back to text \n",
    "decryptedText = intToText(decryptedMessage)\n",
    "print(decryptedText)"
   ]
  },
  {
   "cell_type": "code",
   "execution_count": 58,
   "id": "f89921",
   "metadata": {
    "collapsed": false
   },
   "outputs": [
    {
     "name": "stdout",
     "output_type": "stream",
     "text": [
      "24417318698315865785697712706333419012814817225138891735509857470556789345031212588856098065116591988544937975138040568553952988132787982945616789728205506594983475134008050480741656478386025843495086744408681874400138880554382389069549263620317928809046853404870590270468898357674446832989384451412360366304\n"
     ]
    }
   ],
   "source": [
    "# Testing with professor\n",
    "# Professor public key\n",
    "professor_public_key = 119078858153679354996344178598913713229782582178469832460238538167861335297111373349019304311762284011809752423573709152935652133753017457925218316175121590202073053065196033751277568328455126431610393086843580003823063519848536057441797135759194647672853445004921566247396177442849332622399896197396028599661, 50802507419814693908601033314270944264944115753805663341674855772717250720680463507847236881441962534097021598426855512247397207610027891726223346928281660631173588332269779052379157358536123436642422929750025637544945896203227300698368709275639230255372802993510974013282099170446409677954392258177980964407\n",
    "\n",
    "# Message to send\n",
    "message = \"Jack Salinas 942\"\n",
    "\n",
    "# Convert the message text to an integer\n",
    "message_int = textToInt(message)\n",
    "\n",
    "# Encrypt message to send\n",
    "encrypted_message = RSAEncrypt(message_int, professor_public_key)\n",
    "print(encrypted_message)"
   ]
  }
 ],
 "metadata": {
  "kernelspec": {
   "argv": [
    "sage-10.0",
    "--python",
    "-m",
    "sage.repl.ipython_kernel",
    "--matplotlib=inline",
    "-f",
    "{connection_file}"
   ],
   "display_name": "SageMath 10.0",
   "env": {},
   "language": "sagemath",
   "metadata": {
    "cocalc": {
     "description": "Open-source mathematical software system",
     "priority": 1,
     "url": "https://www.sagemath.org/"
    }
   },
   "name": "sage-10.0",
   "resource_dir": "/ext/jupyter/kernels/sage-10.0"
  }
 },
 "nbformat": 4,
 "nbformat_minor": 4
}
