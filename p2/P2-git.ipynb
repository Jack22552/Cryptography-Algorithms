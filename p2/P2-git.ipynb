{
 "cells": [
  {
   "cell_type": "code",
   "execution_count": 2,
   "id": "5155d8",
   "metadata": {
    "collapsed": false
   },
   "outputs": [],
   "source": [
    "# Helper function for division with remainder\n",
    "def divisionWithRemainder(a,b):\n",
    "    return a // b, a % b"
   ]
  },
  {
   "cell_type": "code",
   "execution_count": 3,
   "id": "887993",
   "metadata": {
    "collapsed": false
   },
   "outputs": [],
   "source": [
    "def extendedGCD(a,b):\n",
    "    a, b = abs(a), abs(b) # Make sure a and b are positive\n",
    "    \n",
    "    r0, r1 = a, b # Set r0 = a and r1 = b\n",
    "    u0, u1 = 1, 0 # Coefficients for a (u0 = 1, u1 = 0 for the first step)\n",
    "    v0, v1 = 0, 1 # Coefficients for b (v0 = 0, v1 = 1 for the first step)\n",
    "    \n",
    "    while r1 != 0:\n",
    "        # Perform division with remainder\n",
    "        q, r2 = divisionWithRemainder(r0, r1)\n",
    "        \n",
    "        # Update r0, r1 for the next iteration\n",
    "        r0, r1 = r1, r2\n",
    "        \n",
    "        # Update u0, u1 based on the division\n",
    "        u0, u1 = u1, u0 - q * u1\n",
    "        \n",
    "        # Update v0, v1 based on the division\n",
    "        v0, v1 = v1, v0 - q * v1\n",
    "        \n",
    "    # At the end, r0 contains the gcd, u0 and v0 are the coefficients for a, b\n",
    "    return r0, u0, v0"
   ]
  },
  {
   "cell_type": "code",
   "execution_count": 4,
   "id": "bf9c3a",
   "metadata": {
    "collapsed": false
   },
   "outputs": [],
   "source": [
    "def intToText(n):\n",
    "    # Initialize an empty list to store the chars\n",
    "    chars = []\n",
    "    \n",
    "    # Keep dividing n by 256 and collect remainders\n",
    "    while n > 0:\n",
    "        # Get remainder, this gives us a digit in base-256\n",
    "        remainder = n % 256\n",
    "        \n",
    "        # Convert current digit into corresponding character using chr\n",
    "        chars.append(chr(remainder))\n",
    "        \n",
    "        # Update n by didviding it by 256 for the next digit\n",
    "        n = n // 256\n",
    "        \n",
    "    # Join together and return the list of chars at the end\n",
    "    return ''.join(chars)"
   ]
  },
  {
   "cell_type": "code",
   "execution_count": 5,
   "id": "edf47f",
   "metadata": {
    "collapsed": false
   },
   "outputs": [],
   "source": [
    "def textToInt(w):\n",
    "    # Initialize n, this will hold final int result\n",
    "    n = 0\n",
    "    # Loop over each character in string w, along with its index i\n",
    "    for i, char in enumerate(w):\n",
    "        # Get the ascii value of current character using ord(char)\n",
    "        # Multiply it by 256^i to get its value in base 256\n",
    "        n += ord(char)*(256**i)\n",
    "    # After processing all the characters, return the accumulated int n    \n",
    "    return n"
   ]
  },
  {
   "cell_type": "code",
   "execution_count": 6,
   "id": "f2f370",
   "metadata": {
    "collapsed": false
   },
   "outputs": [],
   "source": [
    "import random\n",
    "def findPrime(lowerBound, upperBound):\n",
    "    # Keep trying until we find a prime\n",
    "    while True:\n",
    "        # Pick a random number between lowerBound and upperBound\n",
    "        n = random.randint(lowerBound, upperBound)\n",
    "        \n",
    "        # Check if the number is probably prime\n",
    "        if probablyPrime(n):\n",
    "            return n # Return the prime number found 'n'"
   ]
  },
  {
   "cell_type": "code",
   "execution_count": 7,
   "id": "3bccc9",
   "metadata": {
    "collapsed": false
   },
   "outputs": [],
   "source": [
    "import random\n",
    "def probablyPrime(n):\n",
    "    # Run the MillerRabin test 20 times with random base 'a'\n",
    "    for _ in range(20):\n",
    "        a = random.randint(2, n-1) # Random int between 2 and n-1\n",
    "        # Check if current a is a MillerRabin witness for 'n'\n",
    "        if MillerRabin(a, n):\n",
    "            return False # If we find a witness, n is composite\n",
    "    return True # If no witness is found after 20 tests, n is probably prime"
   ]
  },
  {
   "cell_type": "code",
   "execution_count": 8,
   "id": "4c928f",
   "metadata": {
    "collapsed": false
   },
   "outputs": [],
   "source": [
    "def isElliptic(E, p):\n",
    "    # Get A and B from the equation \n",
    "    A,B = E\n",
    "    \n",
    "    # Calculate ∆ = 4A^3 + 27B^2\n",
    "    delta = (4*A**3 + 27*B**2) % p\n",
    "    \n",
    "    # Check if delta is nonzero mod p\n",
    "    if delta != 0:\n",
    "        return True\n",
    "    else:\n",
    "        return False  "
   ]
  },
  {
   "cell_type": "code",
   "execution_count": 9,
   "id": "289600",
   "metadata": {
    "collapsed": false
   },
   "outputs": [],
   "source": [
    "def onCurve(P,E,p):\n",
    "    # Check if P is point ar infinity (O)\n",
    "    if P == \"O\":\n",
    "        return True\n",
    "    \n",
    "    # Extract coordinates (x,y) and curve parameters (A, B)\n",
    "    x, y = P\n",
    "    A, B = E\n",
    "    \n",
    "    # Compute y^2 mod p\n",
    "    lhs = (y**2) % p\n",
    "    \n",
    "    # Compute x^3 + AX + B mod p\n",
    "    rhs = (x**3 + A*x + B) % p\n",
    "    \n",
    "    # Check if point satisfies elliptic curve equation mod p\n",
    "    if lhs == rhs:\n",
    "        return True\n",
    "    else:\n",
    "        return False"
   ]
  },
  {
   "cell_type": "code",
   "execution_count": 10,
   "id": "e701e7",
   "metadata": {
    "collapsed": false
   },
   "outputs": [],
   "source": [
    "def modInverse(a, p):\n",
    "    # Function to compute the modular inverse of a modulo p\n",
    "    gcd, x, y = extendedGCD(a, p)\n",
    "    if gcd != 1:\n",
    "        return None # No inverse exists\n",
    "    return x % p"
   ]
  },
  {
   "cell_type": "code",
   "execution_count": 11,
   "id": "205af4",
   "metadata": {
    "collapsed": false
   },
   "outputs": [],
   "source": [
    "def addPoints(P, Q, E, p):\n",
    "    # Extract curve parameters\n",
    "    A, B = E\n",
    "    \n",
    "    # Check if either P or Q is point at infinity:\n",
    "    if P == \"O\":\n",
    "        return Q\n",
    "    \n",
    "    if Q == \"O\":\n",
    "        return P\n",
    "    \n",
    "    x1, y1 = P\n",
    "    x2, y2 = Q\n",
    "    \n",
    "    # Point doubling\n",
    "    if P == Q:\n",
    "        # If y1 is 0, the point is at infinity\n",
    "        if y1 == 0:\n",
    "            return \"O\"\n",
    "        \n",
    "        # Get slope for point doubling\n",
    "        num = (3 * x1**2 + A) % p\n",
    "        den = (2 * y1) % p\n",
    "        \n",
    "        # Find modular inverse of denominator \n",
    "        inv = modInverse(den, p)\n",
    "        if inv is None:\n",
    "            return \"O\"  # No inverse exists, point is at infinity\n",
    "        \n",
    "        # Slope\n",
    "        lam = (num * inv) % p\n",
    "        \n",
    "        # Compute x3 and y3\n",
    "        x3 = (lam**2 - 2 * x1) % p\n",
    "        y3 = (lam * (x1 - x3) - y1) % p\n",
    "        return (x3, y3)\n",
    "        \n",
    "    # General case for adding 2 distinct primes\n",
    "    # If x1 == x2, then P+Q is O\n",
    "    if x1 == x2:\n",
    "        return \"O\"\n",
    "    \n",
    "    # Slope for distinct primes\n",
    "    num = (y2 - y1) % p\n",
    "    den = (x2 - x1) % p\n",
    "\n",
    "    # Find modular inverse of denominator\n",
    "    inv = modInverse(den, p)\n",
    "    if inv is None:\n",
    "        return \"O\"\n",
    "    \n",
    "    # Slope\n",
    "    lam = (num * inv) % p\n",
    "    \n",
    "    # Compute x3 and y3\n",
    "    x3 = (lam**2 - x1 - x2) % p\n",
    "    y3 = (lam * (x1 - x3) - y1) % p\n",
    "    \n",
    "    return (x3, y3)"
   ]
  },
  {
   "cell_type": "code",
   "execution_count": 12,
   "id": "0dd038",
   "metadata": {
    "collapsed": false
   },
   "outputs": [],
   "source": [
    "def doubleAndAdd(P, n, E, p):      \n",
    "    # Initialize the result as the point at infinity \"O\"\n",
    "    R = \"O\"\n",
    "    \n",
    "    # Start with Q = P (the point we want to multiply by n)\n",
    "    Q = P\n",
    "    \n",
    "    # While there are still bits left in the binary representation of n\n",
    "    while n > 0:\n",
    "        # If the current bit of n is 1, we add Q to R\n",
    "        if n % 2 == 1:\n",
    "            # Add R to Q\n",
    "            R = addPoints(R, Q, E, p)\n",
    "        # Double the point Q (this corresponds to squaring in fast exponentiation)\n",
    "        Q = addPoints(Q, Q, E, p)\n",
    "        \n",
    "        # Shift n to the right by 1 (divide n by 2)\n",
    "        n = n // 2\n",
    "        \n",
    "    # Return final result (nP)\n",
    "    return R  "
   ]
  },
  {
   "cell_type": "code",
   "execution_count": 13,
   "id": "399123",
   "metadata": {
    "collapsed": false
   },
   "outputs": [],
   "source": [
    "def fastPower(g, A, N):\n",
    "    # Initialize a = g and b = 1\n",
    "    a = g % N # Reduce g mod N first\n",
    "    b = 1\n",
    "    \n",
    "    # Apply the algorithm while A > 0\n",
    "    while A > 0:\n",
    "        # If A is odd, multiply by a and take modulo N\n",
    "        if A % 2 == 1:\n",
    "            b = (b * a) % N\n",
    "            \n",
    "        # Square a and reduce A by half\n",
    "        a = (a * a) % N\n",
    "        A = A // 2\n",
    "   \n",
    "    # Return the result b\n",
    "    return b "
   ]
  },
  {
   "cell_type": "code",
   "execution_count": 14,
   "id": "d20494",
   "metadata": {
    "collapsed": false
   },
   "outputs": [],
   "source": [
    "def MillerRabin(a, n):\n",
    "    # Factor n-1 into 2^k * m, where m is odd\n",
    "    k = 0\n",
    "    m = n-1\n",
    "    while m % 2 == 0:\n",
    "        m//= 2\n",
    "        k += 1\n",
    "        \n",
    "    # Compute a^m mod n using fast exponentiation\n",
    "    am = fastPower(a, m, n)\n",
    "    \n",
    "    # If a^m ≡ 1 mod n, then a is not a witness\n",
    "    if am == 1:\n",
    "        return False\n",
    "    \n",
    "    # Check for a^2^i * m ≡ -1 mod n for i = 0, ..., k-1\n",
    "    for i in range(k):\n",
    "        if am == n - 1:\n",
    "            return False\n",
    "        am = (am * am) % n # Compute a^2^i by succesive squaring\n",
    "        \n",
    "    # If we never found a^2^i * m ≡ -1 mod n, then a is a witness\n",
    "    return True"
   ]
  },
  {
   "cell_type": "code",
   "execution_count": 15,
   "id": "f925b0",
   "metadata": {
    "collapsed": false
   },
   "outputs": [],
   "source": [
    "def generateEllipticCurveAndPoint(p):\n",
    "    \n",
    "    # Pick a random a,b, A in the range [1, p-1]\n",
    "    a = random.randint(1, p-1)\n",
    "    b = random.randint(1, p-1)\n",
    "    A = random.randint(1, p-1)\n",
    "    \n",
    "    # Solve for B using the equation: b^2 ≡ a^3 + A*a + B (mod p)\n",
    "    # So, B ≡ b^2 - a^3 - A*a mod p\n",
    "    lhs = (b**2) % p\n",
    "    rhs = (a**3 + A*a) % p\n",
    "    B = (lhs - rhs) % p\n",
    "    \n",
    "    # Form the elliptic curve and check if it's valid\n",
    "    E = (A, B)\n",
    "    if isElliptic(E, p) and onCurve((a,b), E, p):\n",
    "        # Return the elliptic curve and the point on it\n",
    "        return E, (a, b)"
   ]
  },
  {
   "cell_type": "code",
   "execution_count": 17,
   "id": "03018f",
   "metadata": {
    "collapsed": false
   },
   "outputs": [
    {
     "name": "stdout",
     "output_type": "stream",
     "text": [
      "Prime p = 7\n",
      "Elliptic curve E: (2, 4)\n",
      "Point P: (2, 4)\n",
      "On curve? True\n"
     ]
    }
   ],
   "source": [
    "# Testing with small prime p = 7\n",
    "p = 7\n",
    "E, P = generateEllipticCurveAndPoint(p)\n",
    "print(\"Prime p =\", p)\n",
    "print(\"Elliptic curve E:\", E)\n",
    "print(\"Point P:\", P)\n",
    "print(\"On curve?\", onCurve(P, E, p))"
   ]
  },
  {
   "cell_type": "code",
   "execution_count": 18,
   "id": "a72851",
   "metadata": {
    "collapsed": false
   },
   "outputs": [
    {
     "name": "stdout",
     "output_type": "stream",
     "text": [
      "Prime p = 587\n",
      "Elliptic curve E: (271, 30)\n",
      "Point P: (432, 512)\n",
      "On curve? True\n"
     ]
    }
   ],
   "source": [
    "# Testing with 3-digit prime\n",
    "p = findPrime(100, 999)\n",
    "E, P = generateEllipticCurveAndPoint(p)\n",
    "print(\"Prime p =\", p)\n",
    "print(\"Elliptic curve E:\", E)\n",
    "print(\"Point P:\", P)\n",
    "print(\"On curve?\", onCurve(P, E, p))"
   ]
  },
  {
   "cell_type": "code",
   "execution_count": 19,
   "id": "a6463b",
   "metadata": {
    "collapsed": false
   },
   "outputs": [
    {
     "name": "stdout",
     "output_type": "stream",
     "text": [
      "Prime p = 651524980992241\n",
      "Elliptic curve E: (411278505214852, 487293750491844)\n",
      "Point P: (591908890843294, 598764867336643)\n",
      "On curve? True\n"
     ]
    }
   ],
   "source": [
    "# Testing with a 50-bit prime\n",
    "p = findPrime(2**49, 2**50-1)\n",
    "E, P = generateEllipticCurveAndPoint(p)\n",
    "print(\"Prime p =\", p)\n",
    "print(\"Elliptic curve E:\", E)\n",
    "print(\"Point P:\", P)\n",
    "print(\"On curve?\", onCurve(P, E, p))"
   ]
  },
  {
   "cell_type": "code",
   "execution_count": 20,
   "id": "bee993",
   "metadata": {
    "collapsed": false
   },
   "outputs": [],
   "source": [
    " def MVParameterCreation(b):\n",
    "    while True:\n",
    "        # Generate a random b-bit prime\n",
    "        lower = 2**(b-1)\n",
    "        upper = 2**b-1\n",
    "        p = findPrime(lower, upper)\n",
    "        \n",
    "        # Generate a curve and a point on it\n",
    "        E, P = generateEllipticCurveAndPoint(p)\n",
    "        \n",
    "        # Make sure the point isnt the point at infinity and y != 0\n",
    "        if P != \"0\" and P[1] != 0:\n",
    "            return [E, P, p]"
   ]
  },
  {
   "cell_type": "code",
   "execution_count": 21,
   "id": "9857a1",
   "metadata": {
    "collapsed": false
   },
   "outputs": [],
   "source": [
    "def MVKeyCreation(pubParams):\n",
    "    E, P, p = pubParams\n",
    "    \n",
    "    # Choose a private key d randomly from [1, p-1]\n",
    "    d = random.randint(1, p-1)\n",
    "    \n",
    "    # Compute the public key\n",
    "    Q = doubleAndAdd(P, d, E, p)\n",
    "    \n",
    "    # Return the private and public keys\n",
    "    return [d, Q]"
   ]
  },
  {
   "cell_type": "code",
   "execution_count": 22,
   "id": "78c7b3",
   "metadata": {
    "collapsed": false
   },
   "outputs": [],
   "source": [
    "def MVEncrypt(pubParams, m1, m2, publicKey):\n",
    "        E, P, p = pubParams\n",
    "        \n",
    "        # Choose random key k\n",
    "        k = random.randint(1, p-1)\n",
    "        \n",
    "        # Compute R = kp\n",
    "        R = doubleAndAdd(P, k, E, p)\n",
    "        \n",
    "        # Compute S = kQ\n",
    "        S = doubleAndAdd(publicKey, k, E, p)\n",
    "        \n",
    "        # Extract S_x and S_y\n",
    "        Sx, Sy = S\n",
    "        \n",
    "        # Encrypt the messages\n",
    "        c1 = (m1 * Sx) % p\n",
    "        c2 = (m2 * Sy) % p\n",
    "        \n",
    "        # Return ciphertext\n",
    "        return [R, c1, c2]"
   ]
  },
  {
   "cell_type": "code",
   "execution_count": 23,
   "id": "b5b67f",
   "metadata": {
    "collapsed": false
   },
   "outputs": [],
   "source": [
    "def MVDecrypt(pubParams, cipherText, privateKey):\n",
    "    E, P, p = pubParams\n",
    "    R, c1, c2 = cipherText\n",
    "    \n",
    "    # Compute shared secret S = d * R\n",
    "    S = doubleAndAdd(R, privateKey, E, p)\n",
    "    \n",
    "    Sx, Sy = S\n",
    "    \n",
    "    # Compute modular inverse of Sx and Sy\n",
    "    invSx = modInverse(Sx, p)\n",
    "    invSy = modInverse(Sy, p)\n",
    "    \n",
    "    # Recover original messages\n",
    "    m1 = (c1 * invSx) % p\n",
    "    m2 = (c2 * invSy) % p\n",
    "    \n",
    "    return [m1, m2]"
   ]
  },
  {
   "cell_type": "code",
   "execution_count": 24,
   "id": "f613fc",
   "metadata": {
    "collapsed": false
   },
   "outputs": [
    {
     "name": "stdout",
     "output_type": "stream",
     "text": [
      "Public parameters:\n",
      " p = 2942770417\n",
      " E = (875124868, 492602333)\n",
      " P = (1249468676, 2410888042)\n",
      "\n",
      "Private Key: 370711888\n",
      "Public Key: (2786030146, 98304627)\n",
      "\n",
      "Ciphertext: [(822687458, 2686618983), 1168155377, 1050751372]\n",
      "Decrypted: [314159, 8675309]\n",
      "Decryption successful? True\n"
     ]
    }
   ],
   "source": [
    "# Testing\n",
    "# Generate public params and keys using a 32-bit prime\n",
    "pubParams = MVParameterCreation(32)\n",
    "E, P, p = pubParams\n",
    "privKey, pubKey = MVKeyCreation(pubParams)\n",
    "\n",
    "# Encrypt the given messages\n",
    "m1 = 314159\n",
    "m2 = 8675309\n",
    "cipherText = MVEncrypt(pubParams, m1, m2, pubKey)\n",
    "\n",
    "# Decrypt\n",
    "decrypted = MVDecrypt(pubParams, cipherText, privKey)\n",
    "\n",
    "# Output Results\n",
    "print(\"Public parameters:\")\n",
    "print(\" p =\", p)\n",
    "print(\" E =\", E)\n",
    "print(\" P =\", P)\n",
    "print(\"\\nPrivate Key:\", privKey)\n",
    "print(\"Public Key:\", pubKey)\n",
    "print(\"\\nCiphertext:\", cipherText)\n",
    "print(\"Decrypted:\", decrypted)\n",
    "print(\"Decryption successful?\", decrypted == [m1, m2])"
   ]
  },
  {
   "cell_type": "code",
   "execution_count": 37,
   "id": "538b35",
   "metadata": {
    "collapsed": false
   },
   "outputs": [
    {
     "name": "stdout",
     "output_type": "stream",
     "text": [
      "Prime p = 9214332594982606251698315098792825867470698854166486732332027227589597508687120927900406804613577025399446845025761605903347621092293527767370691936576121\n",
      "Elliptic Curve E = (A,B) = (3223537829664451881486389031655264680649091007850911909318255836917101723971140146458043956195536180327129280759338141284694357607408557955129189753880841, 270467621103995365872251416765965538569218683396977984137056032876996401636528571793905097214104890904894235222779500830966967221264249401860192518645424)\n",
      "Base point P = (5333784713640092362299081307067044265084527290827596656439798286513638564640138484541304404319230852308455365510843592475330469580726946751630331627630285, 4283060047572081555120532286527873714470322971185148523395581279639921451811081014593277543867663465206866885639502493054355597128016089867439540893552180)\n",
      "Public Key Q = (5528866226875144903596661554403535089392535441873873022331237352140894703627957679521298582735070519561378534592368526265415292106438911371026783795483566, 8334410466862130687691068415065516801466194282945568471570495912843769604764849889591003403597880203822886226815513412861660926792343759631064855681851504)\n",
      "Private key = 7369780417282635697880681440955862778800567661601350838671865843110212707456197002115315222341026341830766558493436321641272944874959744585711174436808769\n"
     ]
    }
   ],
   "source": [
    "# Testing\n",
    "# Generate public params with 512-bit prime\n",
    "pubParams = MVParameterCreation(512)\n",
    "E, P, p = pubParams\n",
    "privKey, pubKey = MVKeyCreation(pubParams)\n",
    "\n",
    "# Output\n",
    "print(\"Prime p =\", p)\n",
    "print(\"Elliptic Curve E = (A,B) =\", E)\n",
    "print(\"Base point P =\", P)\n",
    "print(\"Public Key Q =\", pubKey)\n",
    "\n",
    "# Save private key\n",
    "print(\"Private key =\", privKey)"
   ]
  },
  {
   "cell_type": "code",
   "execution_count": 31,
   "id": "8a2be3",
   "metadata": {
    "collapsed": false
   },
   "outputs": [
    {
     "name": "stdout",
     "output_type": "stream",
     "text": [
      "Decrypted integer values: [7107813380183178448447326576405815119478374137921657756504131751663576256021904297859212301933553025985588490954056, 131883654445667809153308170315003132777475078301638179236609313646649738627089661503132860043584590277973592909001380626173085047010357]\n",
      "Decoded messages:\n",
      "Message 1: Hello, Jack. Your secret numbers are 9876 and...\n",
      "Message 2: 54321. Reply with the sum and product as the 2 messages.\n"
     ]
    }
   ],
   "source": [
    "# Testing with professor\n",
    "# My parameters\n",
    "p = 9214332594982606251698315098792825867470698854166486732332027227589597508687120927900406804613577025399446845025761605903347621092293527767370691936576121\n",
    "\n",
    "E = ( 3223537829664451881486389031655264680649091007850911909318255836917101723971140146458043956195536180327129280759338141284694357607408557955129189753880841,   270467621103995365872251416765965538569218683396977984137056032876996401636528571793905097214104890904894235222779500830966967221264249401860192518645424\n",
    ")\n",
    "\n",
    "P = (\n",
    "    5333784713640092362299081307067044265084527290827596656439798286513638564640138484541304404319230852308455365510843592475330469580726946751630331627630285, 4283060047572081555120532286527873714470322971185148523395581279639921451811081014593277543867663465206866885639502493054355597128016089867439540893552180\n",
    ")\n",
    "\n",
    "Q = (\n",
    "    5528866226875144903596661554403535089392535441873873022331237352140894703627957679521298582735070519561378534592368526265415292106438911371026783795483566, 8334410466862130687691068415065516801466194282945568471570495912843769604764849889591003403597880203822886226815513412861660926792343759631064855681851504\n",
    ")\n",
    "\n",
    "privKey = 7369780417282635697880681440955862778800567661601350838671865843110212707456197002115315222341026341830766558493436321641272944874959744585711174436808769\n",
    "\n",
    "# Ciphertext \n",
    "R = (   436361395139901298116095559513552246562468647860313556698809044237476929903909099136880556361640722257444151212627141846953391972224245504298698426651760, 2246585585131473942434398000156337221643902238956465801291229148204768036710964707281778172650031937182281666255855817138347193253472505473700800069720671\n",
    ")\n",
    "\n",
    "c1 = 883837613591533954070349825030856447044881031048910141225347145897373438726826619382326335168481738242303167074238700596831496577704870365107400524320721\n",
    "c2 = 9092975451333870591771073847375877677603096142387642829759166729395942256152908882321848306921779995348723975790361979365615318702294117720528566442923144\n",
    "\n",
    "\n",
    "# Prepare for decryption\n",
    "pubParams = [E, P, p]\n",
    "ciphertext = [R, c1, c2]\n",
    "\n",
    "# Call decryption function\n",
    "plaintext = MVDecrypt(pubParams, [R, c1, c2], privKey)\n",
    "\n",
    "# Output decrypted integers\n",
    "print(\"Decrypted integer values:\", plaintext)\n",
    "\n",
    "# Call intToText function:\n",
    "decoded1 = intToText(plaintext[0])\n",
    "decoded2 = intToText(plaintext[1])\n",
    "\n",
    "print(\"Decoded messages:\")\n",
    "print(\"Message 1:\", decoded1)\n",
    "print(\"Message 2:\", decoded2)"
   ]
  },
  {
   "cell_type": "code",
   "execution_count": 29,
   "id": "226661",
   "metadata": {
    "collapsed": false
   },
   "outputs": [
    {
     "name": "stdout",
     "output_type": "stream",
     "text": [
      "[R, c1, c2]: [(6164315125707591775780089232121697176735265380968506346250307299154921789129102224132067516809762959338374600672459210847621870544570787621562853045297868, 7582972035566918482158826254539531508210613060161847251083082834360231993795359234369872753825354265953884060884624076220439475650736858073427272471039195), 7158729307565550078601509484298263377005715514952987204215022248780347109177603555418149293006958342753859925817836121654149674161444907261714353717810301, 2039217660801695504873621778194620998084486963058702303318802213694965280993829012851758993161915434815470867758157839146097345425614248938874993081588733]\n"
     ]
    }
   ],
   "source": [
    "# Replying to professor's message\n",
    "# Given professor values:\n",
    "p = 12318616371550721242199480619703283599374841926200314852758734816884090846038359547680260312862885907382768963411325139187362461239059264412702137770206997\n",
    "\n",
    "A = 5149525586597486758114341175531429865118877380760554402968592395673657722881067251417551926855159505510322052358534052888218791537799097726937431812534080\n",
    "\n",
    "B = 10318903348973275106992388709165258235529316451168320601101503863800629951895593677731895511366052339478340221844674306490829921855312165490735690580560555\n",
    "\n",
    "xP = 11665005833384097379736577316574341217138446560864361172048216508044356295262768625202818803094421527248746727842878297378397806123628285879259928360276451\n",
    "\n",
    "yP = 9556519663954537745904377144184015665914024953786951575246660649330912227051493788716304676895232264549607688192870163855030125922670125036925578675047857\n",
    "\n",
    "xQ = 459397034323094612660117173305208624018649027739177037331656633764960371520850299177313850126613826298494111702222451834347940921347429286683543854214004\n",
    "\n",
    "yQ = 513243265439784192451824887478427876304267549732548267624564983511902666176001403751206536910454041591070474339640893266317053138805472938146352021931325\n",
    "\n",
    "# Rebuilding neccessary objects\n",
    "E = (A, B)\n",
    "P = (xP, yP)\n",
    "Q = (xQ, yQ)\n",
    "\n",
    "profParams = [E, P, p]\n",
    "\n",
    "m1 = 64197  # Sum of the two secret numbers\n",
    "m2 = 536474196  # Product of the two secret numbers\n",
    "\n",
    "# Encrypt reply\n",
    "encryptedMsg = MVEncrypt(profParams, m1, m2, Q)\n",
    "print(\"[R, c1, c2]:\", encryptedMsg)"
   ]
  },
  {
   "cell_type": "code",
   "execution_count": 47,
   "id": "a1881f",
   "metadata": {
    "collapsed": false
   },
   "outputs": [],
   "source": [
    "def MVParameterCreationCompressed(b):\n",
    "    while True:\n",
    "        # Step 1: Generate a random b-bit prime\n",
    "        lower = 2**(b - 1)\n",
    "        upper = 2**b - 1\n",
    "        p = findPrime(lower, upper)\n",
    "        \n",
    "        # Make sure Make sure p ≡ 3 mod 4\n",
    "        if p % 4 != 3:\n",
    "            continue\n",
    "           \n",
    "        # Generate curve and point\n",
    "        E, P = generateEllipticCurveAndPoint(p)\n",
    "        \n",
    "        # Make sure the point isnt the point at infinity and y != 0\n",
    "        if P != \"0\" and P[1] != 0:\n",
    "            return [E, P, p]"
   ]
  },
  {
   "cell_type": "code",
   "execution_count": 46,
   "id": "8e0b75",
   "metadata": {
    "collapsed": false
   },
   "outputs": [],
   "source": [
    "def MVEncryptCompressed(pubParams, m1, m2, publicKey):\n",
    "        E, P, p = pubParams\n",
    "        \n",
    "        # Choose random key k\n",
    "        k = random.randint(1, p-1)\n",
    "        \n",
    "        # Compute R = kp\n",
    "        R = doubleAndAdd(P, k, E, p)\n",
    "        \n",
    "        # Compute S = kQ\n",
    "        S = doubleAndAdd(publicKey, k, E, p)\n",
    "        \n",
    "        xR, yR = R\n",
    "        \n",
    "        # Compress R to (xR, b)\n",
    "        b = yR % 2 # Take parity bit of y\n",
    "        \n",
    "        # Compute sharefd secret S = kQ\n",
    "        S = doubleAndAdd(publicKey, k, E, p)\n",
    "        \n",
    "        # Extract S_x and S_y\n",
    "        Sx, Sy = S\n",
    "        \n",
    "        # Encrypt the messages\n",
    "        c1 = (m1 * Sx) % p\n",
    "        c2 = (m2 * Sy) % p\n",
    "        \n",
    "        # Return compressed ciphertext\n",
    "        return [xR, b, c1, c2]"
   ]
  },
  {
   "cell_type": "code",
   "execution_count": 51,
   "id": "db0389",
   "metadata": {
    "collapsed": false
   },
   "outputs": [],
   "source": [
    "def MVDecryptCompressed(pubParams, cipherText, privateKey):\n",
    "    E, P, p = pubParams\n",
    "    A, B = E\n",
    "    xR, b, c1, c2 = cipherText\n",
    "    \n",
    "    # Compute y^2 = x^3 + A*x + B mod p\n",
    "    rhs = (xR**3 + A * xR + B) % p\n",
    "    \n",
    "    # Compute modular square root using fastPower (only works when p ≡ 3 mod 4)\n",
    "    if p % 4 != 3:\n",
    "        raise ValueError(\"This function requires p ≡ 3 mod 4\")\n",
    "        \n",
    "    y = fastPower(rhs, (p+1) // 4, p)\n",
    "    y_neg= (-y) % p\n",
    "    \n",
    "    # Use bit b to select the correct root\n",
    "    yR = y if y % 2 == b else y_neg\n",
    "    \n",
    "    R = (xR, yR)\n",
    "    \n",
    "    # Compute shared secret S = d * R\n",
    "    S = doubleAndAdd(R, privateKey, E, p)\n",
    "    \n",
    "    Sx, Sy = S\n",
    "    \n",
    "    # Compute modular inverse of Sx and Sy\n",
    "    invSx = modInverse(Sx, p)\n",
    "    invSy = modInverse(Sy, p)\n",
    "    \n",
    "    # Recover original messages\n",
    "    m1 = (c1 * invSx) % p\n",
    "    m2 = (c2 * invSy) % p\n",
    "    \n",
    "    return [m1, m2]"
   ]
  },
  {
   "cell_type": "code",
   "execution_count": 52,
   "id": "719b39",
   "metadata": {
    "collapsed": false
   },
   "outputs": [
    {
     "name": "stdout",
     "output_type": "stream",
     "text": [
      "Public parameters:\n",
      " p = 3364498519\n",
      " E = (1510252936, 122997079)\n",
      " P = (228421337, 301960420)\n",
      "\n",
      "Private Key: 121557325\n",
      "Public Key: (1419086490, 1079260151)\n",
      "\n",
      "Ciphertext: [1693120219, 0, 3151186665, 1688861434]\n",
      "Decrypted: [314159, 8675309]\n",
      "Decryption successful? True\n"
     ]
    }
   ],
   "source": [
    "# Testing\n",
    "# Generate public params and keys using a 32-bit prime\n",
    "pubParams = MVParameterCreationCompressed(32)\n",
    "E, P, p = pubParams\n",
    "privKey, pubKey = MVKeyCreation(pubParams)\n",
    "\n",
    "# Encrypt the given messages\n",
    "m1 = 314159\n",
    "m2 = 8675309\n",
    "cipherText = MVEncryptCompressed(pubParams, m1, m2, pubKey)\n",
    "\n",
    "# Decrypt\n",
    "decrypted = MVDecryptCompressed(pubParams, cipherText, privKey)\n",
    "\n",
    "# Output Results\n",
    "print(\"Public parameters:\")\n",
    "print(\" p =\", p)\n",
    "print(\" E =\", E)\n",
    "print(\" P =\", P)\n",
    "print(\"\\nPrivate Key:\", privKey)\n",
    "print(\"Public Key:\", pubKey)\n",
    "print(\"\\nCiphertext:\", cipherText)\n",
    "print(\"Decrypted:\", decrypted)\n",
    "print(\"Decryption successful?\", decrypted == [m1, m2])"
   ]
  }
 ],
 "metadata": {
  "kernelspec": {
   "argv": [
    "sage-10.0",
    "--python",
    "-m",
    "sage.repl.ipython_kernel",
    "--matplotlib=inline",
    "-f",
    "{connection_file}"
   ],
   "display_name": "SageMath 10.0",
   "env": {},
   "language": "sagemath",
   "metadata": {
    "cocalc": {
     "description": "Open-source mathematical software system",
     "priority": 1,
     "url": "https://www.sagemath.org/"
    }
   },
   "name": "sage-10.0",
   "resource_dir": "/ext/jupyter/kernels/sage-10.0"
  }
 },
 "nbformat": 4,
 "nbformat_minor": 4
}
