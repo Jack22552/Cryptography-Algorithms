{
 "cells": [
  {
   "cell_type": "code",
   "execution_count": 1,
   "id": "5b94f4",
   "metadata": {
    "collapsed": false
   },
   "outputs": [],
   "source": [
    "# Helper function for division with remainder\n",
    "def divisionWithRemainder(a,b):\n",
    "    return a // b, a % b"
   ]
  },
  {
   "cell_type": "code",
   "execution_count": 2,
   "id": "3cf5d2",
   "metadata": {
    "collapsed": false
   },
   "outputs": [],
   "source": [
    "def extendedGCD(a,b):\n",
    "    a, b = abs(a), abs(b) # Make sure a and b are positive\n",
    "    \n",
    "    r0, r1 = a, b # Set r0 = a and r1 = b\n",
    "    u0, u1 = 1, 0 # Coefficients for a (u0 = 1, u1 = 0 for the first step)\n",
    "    v0, v1 = 0, 1 # Coefficients for b (v0 = 0, v1 = 1 for the first step)\n",
    "    \n",
    "    while r1 != 0:\n",
    "        # Perform division with remainder\n",
    "        q, r2 = divisionWithRemainder(r0, r1)\n",
    "        \n",
    "        # Update r0, r1 for the next iteration\n",
    "        r0, r1 = r1, r2\n",
    "        \n",
    "        # Update u0, u1 based on the division\n",
    "        u0, u1 = u1, u0 - q * u1\n",
    "        \n",
    "        # Update v0, v1 based on the division\n",
    "        v0, v1 = v1, v0 - q * v1\n",
    "        \n",
    "    # At the end, r0 contains the gcd, u0 and v0 are the coefficients for a, b\n",
    "    return r0, u0, v0"
   ]
  },
  {
   "cell_type": "code",
   "execution_count": 27,
   "id": "763d9c",
   "metadata": {
    "collapsed": false
   },
   "outputs": [],
   "source": [
    "def modInverse(a, p):\n",
    "    # Function to compute the modular inverse of a modulo p\n",
    "    gcd, x, y = extendedGCD(a, p)\n",
    "    if gcd != 1:\n",
    "        raise ZeroDivisionError(a)\n",
    "    return x % p"
   ]
  },
  {
   "cell_type": "code",
   "execution_count": 4,
   "id": "7c4916",
   "metadata": {
    "collapsed": false
   },
   "outputs": [],
   "source": [
    "def addPoints(P, Q, E, p):\n",
    "    # Extract curve parameters\n",
    "    A, B = E\n",
    "    \n",
    "    # Check if either P or Q is point at infinity:\n",
    "    if P == \"O\":\n",
    "        return Q\n",
    "    \n",
    "    if Q == \"O\":\n",
    "        return P\n",
    "    \n",
    "    x1, y1 = P\n",
    "    x2, y2 = Q\n",
    "    \n",
    "    # Point doubling\n",
    "    if P == Q:\n",
    "        # If y1 is 0, the point is at infinity\n",
    "        if y1 == 0:\n",
    "            return \"O\"\n",
    "        \n",
    "        # Get slope for point doubling\n",
    "        num = (3 * x1**2 + A) % p\n",
    "        den = (2 * y1) % p\n",
    "        \n",
    "        # Find modular inverse of denominator \n",
    "        inv = modInverse(den, p)\n",
    "        \n",
    "        # Slope\n",
    "        lam = (num * inv) % p\n",
    "        \n",
    "        # Compute x3 and y3\n",
    "        x3 = (lam**2 - 2 * x1) % p\n",
    "        y3 = (lam * (x1 - x3) - y1) % p\n",
    "        return (x3, y3)\n",
    "        \n",
    "    # General case for adding 2 distinct primes\n",
    "    # If x1 == x2, then P+Q is O\n",
    "    if x1 == x2:\n",
    "        return \"O\"\n",
    "    \n",
    "    # Slope for distinct primes\n",
    "    num = (y2 - y1) % p\n",
    "    den = (x2 - x1) % p\n",
    "\n",
    "    # Find modular inverse of denominator\n",
    "    inv = modInverse(den, p)\n",
    "    \n",
    "    # Slope\n",
    "    lam = (num * inv) % p\n",
    "    \n",
    "    # Compute x3 and y3\n",
    "    x3 = (lam**2 - x1 - x2) % p\n",
    "    y3 = (lam * (x1 - x3) - y1) % p\n",
    "    \n",
    "    return (x3, y3)"
   ]
  },
  {
   "cell_type": "code",
   "execution_count": 5,
   "id": "5ca26b",
   "metadata": {
    "collapsed": false
   },
   "outputs": [],
   "source": [
    "def doubleAndAdd(P, n, E, p):      \n",
    "    # Initialize the result as the point at infinity \"O\"\n",
    "    R = \"O\"\n",
    "    \n",
    "    # Start with Q = P (the point we want to multiply by n)\n",
    "    Q = P\n",
    "    \n",
    "    # While there are still bits left in the binary representation of n\n",
    "    while n > 0:\n",
    "        # If the current bit of n is 1, we add Q to R\n",
    "        if n % 2 == 1:\n",
    "            # Add R to Q\n",
    "            R = addPoints(R, Q, E, p)\n",
    "        # Double the point Q (this corresponds to squaring in fast exponentiation)\n",
    "        Q = addPoints(Q, Q, E, p)\n",
    "        \n",
    "        # Shift n to the right by 1 (divide n by 2)\n",
    "        n = n // 2\n",
    "        \n",
    "    # Return final result (nP)\n",
    "    return R  "
   ]
  },
  {
   "cell_type": "code",
   "execution_count": 6,
   "id": "a82d44",
   "metadata": {
    "collapsed": false
   },
   "outputs": [],
   "source": [
    "def fastPower(g, A, N):\n",
    "    # If A is negative, compute the modular inverse of g^(-A)\n",
    "    if A < 0:\n",
    "        g = modInverse(g, N) # Invert the base g before raising it to -A\n",
    "        \n",
    "        A = -A # Now work with the positive equivalent of -A\n",
    "        \n",
    "    # Initialize a = g and b = 1\n",
    "    g = g % N # Reduce g mod N first\n",
    "    b = 1\n",
    "    \n",
    "    # Apply the algorithm while A > 0\n",
    "    while A > 0:\n",
    "        # If A is odd, multiply by a and take modulo N\n",
    "        if A % 2 == 1:\n",
    "            b = (b * g) % N\n",
    "            \n",
    "        # Square a and reduce A by half\n",
    "        g = (g * g) % N\n",
    "        A = A // 2\n",
    "   \n",
    "    # Return the result b\n",
    "    return b "
   ]
  },
  {
   "cell_type": "code",
   "execution_count": 7,
   "id": "32ed17",
   "metadata": {
    "collapsed": false
   },
   "outputs": [],
   "source": [
    "def intToText(n):\n",
    "    # Initialize an empty list to store the chars\n",
    "    chars = []\n",
    "    \n",
    "    # Keep dividing n by 256 and collect remainders\n",
    "    while n > 0:\n",
    "        # Get remainder, this gives us a digit in base-256\n",
    "        remainder = n % 256\n",
    "        \n",
    "        # Convert current digit into corresponding character using chr\n",
    "        chars.append(chr(remainder))\n",
    "        \n",
    "        # Update n by didviding it by 256 for the next digit\n",
    "        n = n // 256\n",
    "        \n",
    "    # Join together and return the list of chars at the end\n",
    "    return ''.join(chars)"
   ]
  },
  {
   "cell_type": "code",
   "execution_count": 8,
   "id": "ab2b15",
   "metadata": {
    "collapsed": false
   },
   "outputs": [],
   "source": [
    "def textToInt(w):\n",
    "    # Initialize n, this will hold final int result\n",
    "    n = 0\n",
    "    # Loop over each character in string w, along with its index i\n",
    "    for i, char in enumerate(w):\n",
    "        # Get the ascii value of current character using ord(char)\n",
    "        # Multiply it by 256^i to get its value in base 256\n",
    "        n += ord(char)*(256**i)\n",
    "    # After processing all the characters, return the accumulated int n    \n",
    "    return n"
   ]
  },
  {
   "cell_type": "code",
   "execution_count": 9,
   "id": "37e00e",
   "metadata": {
    "collapsed": false
   },
   "outputs": [],
   "source": [
    "import random\n",
    "def findPrime(lowerBound, upperBound):\n",
    "    # Keep trying until we find a prime\n",
    "    while True:\n",
    "        # Pick a random number between lowerBound and upperBound\n",
    "        n = random.randint(lowerBound, upperBound)\n",
    "        \n",
    "        # Check if the number is probably prime\n",
    "        if probablyPrime(n):\n",
    "            return n # Return the prime number found 'n'"
   ]
  },
  {
   "cell_type": "code",
   "execution_count": 10,
   "id": "bde24e",
   "metadata": {
    "collapsed": false
   },
   "outputs": [],
   "source": [
    "import random\n",
    "def probablyPrime(n):\n",
    "    # Run the MillerRabin test 20 times with random base 'a'\n",
    "    for _ in range(20):\n",
    "        a = random.randint(2, n-1) # Random int between 2 and n-1\n",
    "        # Check if current a is a MillerRabin witness for 'n'\n",
    "        if MillerRabin(a, n):\n",
    "            return False # If we find a witness, n is composite\n",
    "    return True # If no witness is found after 20 tests, n is probably prime"
   ]
  },
  {
   "cell_type": "code",
   "execution_count": 11,
   "id": "2ebf8e",
   "metadata": {
    "collapsed": false
   },
   "outputs": [],
   "source": [
    "def MillerRabin(a, n):\n",
    "    # Factor n-1 into 2^k * m, where m is odd\n",
    "    k = 0\n",
    "    m = n-1\n",
    "    while m % 2 == 0:\n",
    "        m//= 2\n",
    "        k += 1\n",
    "        \n",
    "    # Compute a^m mod n using fast exponentiation\n",
    "    am = fastPower(a, m, n)\n",
    "    \n",
    "    # If a^m ≡ 1 mod n, then a is not a witness\n",
    "    if am == 1:\n",
    "        return False\n",
    "    \n",
    "    # Check for a^2^i * m ≡ -1 mod n for i = 0, ..., k-1\n",
    "    for i in range(k):\n",
    "        if am == n - 1:\n",
    "            return False\n",
    "        am = (am * am) % n # Compute a^2^i by succesive squaring\n",
    "        \n",
    "    # If we never found a^2^i * m ≡ -1 mod n, then a is a witness\n",
    "    return True"
   ]
  },
  {
   "cell_type": "code",
   "execution_count": 12,
   "id": "286a78",
   "metadata": {
    "collapsed": false
   },
   "outputs": [],
   "source": [
    "def ElGamalParameterCreation(b):\n",
    "    # Generate a b-bit prime number p\n",
    "    lowerBound = 2**(b-1)\n",
    "    upperBound = 2**b-1\n",
    "    \n",
    "    # Find a generator g for Z_p^*\n",
    "    # Retry until we find a p s.t. p = 2q + 1 where q is also prime\n",
    "    while True:\n",
    "        p = findPrime(lowerBound, upperBound)\n",
    "        q = (p-1)//2\n",
    "        if probablyPrime(q):\n",
    "            break\n",
    "        \n",
    "    # Try to find a generator g such that g^((p-1)/2) !≡ 1 mod p or g^1 !≡ 1 mod p\n",
    "    while True:\n",
    "        g = random.randint(2, p-2)\n",
    "        if fastPower(g, 2, p) != 1 and fastPower(g,q,p) != 1:\n",
    "            break\n",
    "            \n",
    "    return [p, g]"
   ]
  },
  {
   "cell_type": "code",
   "execution_count": 13,
   "id": "d5e66c",
   "metadata": {
    "collapsed": false
   },
   "outputs": [],
   "source": [
    "def ElGamalKeyCreation(pubParams):\n",
    "    p, g = pubParams\n",
    "    \n",
    "    # Private key, random s  ∈ {1, ..., p-2}\n",
    "    s = random.randint(1, p-2)\n",
    "    \n",
    "    # Compute g^s mod p\n",
    "    gs = fastPower(g, s, p)\n",
    "    \n",
    "    #Public key \n",
    "    v = fastPower(g, s, p)\n",
    "    \n",
    "    return s, v"
   ]
  },
  {
   "cell_type": "code",
   "execution_count": 14,
   "id": "c466ad",
   "metadata": {
    "collapsed": false
   },
   "outputs": [],
   "source": [
    "def ElGamalSign(pubParams, signingKey, document):\n",
    "    p,g = pubParams\n",
    "    s = signingKey\n",
    "    \n",
    "    # Convert document to integer hash modulo (p-1)\n",
    "    h = textToInt(document) % (p - 1)\n",
    "    \n",
    "    while True:\n",
    "        # Pick random beta ∈ Z_{p-1}^*\n",
    "        beta = random.randint(1, p-2)\n",
    "        if extendedGCD(beta, p-1)[0] == 1:\n",
    "            break\n",
    "            \n",
    "            \n",
    "    # Compute S1 = g^beta mod p\n",
    "    S1 = fastPower(g, beta, p)\n",
    "    \n",
    "    # Compute S2 = (h - s * S1) * beta^-1 mod (p-1)\n",
    "    beta_inv = modInverse(beta, p-1)\n",
    "    S2 = (h - s * S1) * beta_inv % (p - 1)\n",
    "    \n",
    "    print(f\"Signature: S1 = {S1}, S2 = {S2}, beta_inv = {beta_inv}\")\n",
    "    \n",
    "    return S1, S2\n"
   ]
  },
  {
   "cell_type": "code",
   "execution_count": 15,
   "id": "0f3073",
   "metadata": {
    "collapsed": false
   },
   "outputs": [],
   "source": [
    "def ElGamalVerify(pubParams, verificationKey, document, signedDocument):\n",
    "    p, g = pubParams\n",
    "    v = verificationKey\n",
    "    r, t = signedDocument\n",
    "    \n",
    "    # Verify r is in valid range\n",
    "    if not (1 <= r < p):\n",
    "        return False\n",
    "    \n",
    "    # Convert document to integer hash modulo (p-1)\n",
    "    h = textToInt(document) % (p - 1)\n",
    "    \n",
    "    # Compute g^h mod p\n",
    "    left = fastPower(g, h, p)\n",
    "    \n",
    "    # Compute v^r mod p\n",
    "    vr = fastPower(v, r, p)\n",
    "    \n",
    "    # Compute r^t mod p\n",
    "    rt = fastPower(r, t, p)\n",
    "    \n",
    "    # Compute v^r * r^t mod p\n",
    "    right = (vr * rt) % p\n",
    "    \n",
    "    # Check if both sides match\n",
    "    return left == right"
   ]
  },
  {
   "cell_type": "code",
   "execution_count": null,
   "id": "a6e08c",
   "metadata": {
    "collapsed": false
   },
   "outputs": [
    {
     "name": "stdout",
     "output_type": "stream",
     "text": [
      "Public parameters:\n",
      "p =  4246397879\n",
      "g =  4119787799\n",
      "\n",
      "Keys:\n",
      "Signing key s = 2909510369\n",
      "Verification key v = 2360275797\n",
      "Signature: S1 = 1487986737, S2 = 2213265780, beta_inv = 3537223589\n",
      "\n",
      "Signature (r, t):  (1487986737, 2213265780)\n",
      "\n",
      "Verification result:  True\n"
     ]
    }
   ],
   "source": [
    "# Testing\n",
    "# Generate a 32-bit prime\n",
    "pubParams = ElGamalParameterCreation(32)\n",
    "p,g = pubParams\n",
    "print(\"Public parameters:\")\n",
    "print(\"p = \", p)\n",
    "print(\"g = \", g)\n",
    "\n",
    "# Generate key pair\n",
    "s,v = ElGamalKeyCreation(pubParams)\n",
    "print(\"\\nKeys:\")\n",
    "print(\"Signing key s =\", s)\n",
    "print(\"Verification key v =\", v)\n",
    "\n",
    "# Define document to sign\n",
    "D = 314159\n",
    "doc = intToText(D)\n",
    "\n",
    "# Sign document\n",
    "signature = ElGamalSign(pubParams, s, doc)\n",
    "print(\"\\nSignature (r, t): \", signature)\n",
    "\n",
    "# Verify the signature\n",
    "isValid = ElGamalVerify(pubParams, v, doc, signature)\n",
    "print(\"\\nVerification result: \", isValid)"
   ]
  },
  {
   "cell_type": "code",
   "execution_count": null,
   "id": "27ae5f",
   "metadata": {
    "collapsed": false
   },
   "outputs": [
    {
     "name": "stdout",
     "output_type": "stream",
     "text": [
      "Avice 1:  Cats can have a little salami.\n",
      "Advice 2:  Cats can only eat catfood.\n",
      "Verification result for the first document: True\n",
      "Verification result for the first document: False\n"
     ]
    }
   ],
   "source": [
    "# Testing\n",
    "# Question 2 documents\n",
    "d = 320322645469855149716072227682460508269721725760557985886277190655697219\n",
    "dPrime = 74549592591553434253650896145554141457666307549831202799378755\n",
    "\n",
    "# Convert imtegers back to text\n",
    "advice1 = intToText(d)\n",
    "advice2 = intToText(dPrime)\n",
    "\n",
    "# Print results\n",
    "print(\"Avice 1: \", advice1)\n",
    "print(\"Advice 2: \", advice2)\n",
    "\n",
    "# Here are the public parameters\n",
    "p = 63763036770305675425223818535163544823646748646012308847515047342847475899751\n",
    "g = 20119259641437061188845699514503278028142305695487543873085942722254747288394\n",
    "\n",
    "# Here is the public verification key\n",
    "v = 33539746038778540759735362312361055037370039940261352677772334533434654814579\n",
    "\n",
    "# Here are the signed documents\n",
    "dSig = [29433470486560334144623951556645859140900248185071358201234156282753691310077,12860016104300249307248383217107923493203148899495279416185499586534166303722]\n",
    "\n",
    "dPrimeSig = [13416511489189463535556426225612058855078916511050537218014145402736162121928,59359627103338619156875624611277097474231592296570819984905657071079102999679]\n",
    "\n",
    "# Test verification of first document\n",
    "valid_d = ElGamalVerify([p,g], v, advice1, dSig)\n",
    "print(f\"Verification result for the first document: {valid_d}\")\n",
    "\n",
    "# Test verification of second document\n",
    "valid_d_prime = ElGamalVerify([p,g], v, advice2, dPrimeSig)\n",
    "print(f\"Verification result for the first document: {valid_d_prime}\")"
   ]
  },
  {
   "cell_type": "code",
   "execution_count": 18,
   "id": "6377f4",
   "metadata": {
    "collapsed": false
   },
   "outputs": [],
   "source": [
    "def ECDSAKeyCreation(pubParams):\n",
    "    E, p, G, q = pubParams\n",
    "    \n",
    "    # Generate a secret key s\n",
    "    s = random.randint(1, q-1)\n",
    "    \n",
    "    # Compute the public key V = s * G using double and add\n",
    "    V = doubleAndAdd(G, s, E, p)\n",
    "    \n",
    "    # Return private and public key\n",
    "    return s, V"
   ]
  },
  {
   "cell_type": "code",
   "execution_count": 19,
   "id": "1ffb83",
   "metadata": {
    "collapsed": false
   },
   "outputs": [],
   "source": [
    "def ECDSASign(pubParams, signingKey, document):\n",
    "    E, p, G, q = pubParams\n",
    "    \n",
    "    # Choose a random number e\n",
    "    e = random.randint(1, q-1)\n",
    "    \n",
    "    # Compute eG (elliptic curve multiplication)\n",
    "    eG = doubleAndAdd(G, e, E, p)\n",
    "    \n",
    "    # Compute s1 = x(eG) mod q\n",
    "    s1 = eG[0] % q\n",
    "    \n",
    "    # Compute s2 = (d + s * s1) * e^-1 mod q\n",
    "    d = document % q\n",
    "    e_inv = modInverse(e, q)\n",
    "    s2 = (d + signingKey * s1) * e_inv % q\n",
    "    \n",
    "    # Return the signature (s1, s2)\n",
    "    return (s1, s2)"
   ]
  },
  {
   "cell_type": "code",
   "execution_count": 20,
   "id": "d26c3e",
   "metadata": {
    "collapsed": false
   },
   "outputs": [],
   "source": [
    "def ECDSAVerify(pubParams, verificationKey, document, signedDocument):\n",
    "    E, p, G, q = pubParams\n",
    "    \n",
    "    # Extract signature\n",
    "    s1, s2 = signedDocument\n",
    "    \n",
    "    # Check if s1 is in the valid range\n",
    "    if not (1 <= s1 < q):\n",
    "        return False\n",
    "    \n",
    "    # Compute the document hash d (mod q)\n",
    "    d = document % q\n",
    "    \n",
    "    # Compute v1 = = d * s2^-1 mod q and v2 = s1 * s2^-1 mod q\n",
    "    s2_inv = modInverse(s2, q)\n",
    "    v1 = d * s2_inv % q\n",
    "    v2 = s1 * s2_inv % q\n",
    "    \n",
    "    # Compute v1 * G + v2 * V\n",
    "    v1G = doubleAndAdd(G, v1, E, p)\n",
    "    v2G = doubleAndAdd(verificationKey, v2, E, p)\n",
    "    resultPoint = addPoints(v1G, v2G, E, p)\n",
    "    \n",
    "    # Check if x(v1G + v2V) mod q == s1\n",
    "    if resultPoint[0] % q == s1:\n",
    "        return True\n",
    "    else:\n",
    "        return False"
   ]
  },
  {
   "cell_type": "code",
   "execution_count": null,
   "id": "f3754c",
   "metadata": {
    "collapsed": false
   },
   "outputs": [
    {
     "name": "stdout",
     "output_type": "stream",
     "text": [
      "Private signing key (s): 24230577249032040836786025054793116565973955441593696733158287960366667976753\n",
      "Public verification key (V): (98263382152009145481561384084640717389398964188011115553575305078131909301488, 45108154843854704114633904968542912668745618338795873226259991965716171358125)\n",
      "Signature (s1, s2): (107785601354580493682498245868474174301616056022346101679833869191483330933447, 59658342004526137249941407164815330001753986254619553113308117616392842747121)\n",
      "Is signature valid? True\n"
     ]
    }
   ],
   "source": [
    "# Testing\n",
    "# Bitcoin curve parameters\n",
    "A = 0\n",
    "B = 7\n",
    "E = (A, B)\n",
    "\n",
    "p = 115792089237316195423570985008687907853269984665640564039457584007908834671663\n",
    "\n",
    "G = [55066263022277343669578718895168534326250603453777594175500187360389116729240,\n",
    "     32670510020758816978083085130507043184471273380659243275938904335757337482424]\n",
    "\n",
    "q = 115792089237316195423570985008687907852837564279074904382605163141518161494337\n",
    "\n",
    "# Public parameters tuple\n",
    "pubParams = (E, p, G, q)\n",
    "\n",
    "# Generate key pair\n",
    "s, V = ECDSAKeyCreation(pubParams)\n",
    "print(\"Private signing key (s):\", s)\n",
    "print(\"Public verification key (V):\", V)\n",
    "\n",
    "# Document to sign\n",
    "D = 314159\n",
    "\n",
    "# Sign the document\n",
    "sig = ECDSASign(pubParams, s, D)\n",
    "print(\"Signature (s1, s2):\", sig)\n",
    "\n",
    "# Verify the signature\n",
    "valid = ECDSAVerify(pubParams, V, D, sig)\n",
    "print(\"Is signature valid?\", valid)"
   ]
  },
  {
   "cell_type": "code",
   "execution_count": null,
   "id": "2cdcef",
   "metadata": {
    "collapsed": false
   },
   "outputs": [
    {
     "name": "stdout",
     "output_type": "stream",
     "text": [
      "Message 1: I've never found math hard.\n",
      "Signature valid? False\n",
      "\n",
      "Message 2: I find math hard, but cool!\n",
      "Signature valid? True\n"
     ]
    }
   ],
   "source": [
    "# Testing\n",
    "# Here are the parameters, keys, and documents for Question 4\n",
    "\n",
    "# Here are the bitcoin parameters\n",
    "A = 0\n",
    "B = 7\n",
    "E = (A, B)\n",
    "\n",
    "#prime\n",
    "p = 115792089237316195423570985008687907853269984665640564039457584007908834671663\n",
    "\n",
    "#basepoint\n",
    "G = [55066263022277343669578718895168534326250603453777594175500187360389116729240,32670510020758816978083085130507043184471273380659243275938904335757337482424]\n",
    "\n",
    "#order of basepoint\n",
    "q = 115792089237316195423570985008687907852837564279074904382605163141518161494337\n",
    "\n",
    "#Here is my public verification key\n",
    "\n",
    "V = [67545929220337950307684201000770305786305857763801479070770667679633981677471,57404668796908865765193875258816622070375393753567561160910848438073796688949]\n",
    "\n",
    "#Here are the 2 documents\n",
    "d = 19084714191624028315430109972252645018129944214203497594232383305\n",
    "dPrime = 13749661396179088281771254246593875257372241209246875366837329993\n",
    "\n",
    "#Here are the associated signed documents\n",
    "dSig = [7821197833556217190755673939417527809613808935070956696104467705513893731806,52322483224638936177159489555194143120408137204708094896402485073482948116954]\n",
    "dPrimeSig = [62995934878104750991486545310252372051361932832154545640189385031392307270884,16776120925940136440924794112454091454058244627747258413766612398003715874135]\n",
    "\n",
    "# Public parameters tuple\n",
    "pubParams = (E, p, G, q)\n",
    "\n",
    "# Run verification on both messages\n",
    "valid1 = ECDSAVerify(pubParams, V, d, dSig)\n",
    "valid2 = ECDSAVerify(pubParams, V, dPrime, dPrimeSig)\n",
    "\n",
    "# Decode messages\n",
    "msg1 = intToText(d)\n",
    "msg2 = intToText(dPrime)\n",
    "\n",
    "# Ouput results\n",
    "print(\"Message 1:\", msg1)\n",
    "print(\"Signature valid?\", valid1)\n",
    "print()\n",
    "print(\"Message 2:\", msg2)\n",
    "print(\"Signature valid?\", valid2)\n"
   ]
  },
  {
   "cell_type": "code",
   "execution_count": null,
   "id": "9d5170",
   "metadata": {
    "collapsed": false
   },
   "outputs": [
    {
     "name": "stdout",
     "output_type": "stream",
     "text": [
      "Signature valid? True\n",
      "Message: Trust me, Im verified\n",
      "Document D: 146729122300524217703385237801041744736034919641684\n",
      "Signature (s1, s2): (84893600292549333154071291898678686284890446881808718623013009838375235672504, 12372150166112466802865451329423747454893370195806985666408664117047091378199)\n",
      "Public verification key V (x, y): (26886000101857175043744223012064840914399359858500524580729933506611517389773, 36435371160224830493988358985383923578454940005123420931665410139142957109858)\n"
     ]
    }
   ],
   "source": [
    "# Testing \n",
    "# My message\n",
    "E = (0, 7)  # Elliptic curve parameters (A, B)\n",
    "p = 115792089237316195423570985008687907853269984665640564039457584007908834671663  # Prime\n",
    "G = [55066263022277343669578718895168534326250603453777594175500187360389116729240, \n",
    "     32670510020758816978083085130507043184471273380659243275938904335757337482424]  # Base point\n",
    "q = 115792089237316195423570985008687907852837564279074904382605163141518161494337  # Order of the base point\n",
    "\n",
    "pubParams = (E, p, G, q)\n",
    "\n",
    "# My message\n",
    "message = \"Trust me, Im verified\"\n",
    "\n",
    "# Convert to int\n",
    "d = textToInt(message) % q\n",
    "\n",
    "# Generate my ECDSA key\n",
    "s, V = ECDSAKeyCreation(pubParams)\n",
    "\n",
    "# Sign it\n",
    "signature = ECDSASign(pubParams, s, d)\n",
    "\n",
    "# Verify it\n",
    "isValid = ECDSAVerify(pubParams, V, d, signature)\n",
    "print(\"Signature valid?\", isValid)\n",
    "\n",
    "print(\"Message:\", message)\n",
    "print(\"Document D:\", d)\n",
    "print(\"Signature (s1, s2):\", signature)\n",
    "print(\"Public verification key V (x, y):\", V)"
   ]
  },
  {
   "cell_type": "code",
   "execution_count": null,
   "id": "271390",
   "metadata": {
    "collapsed": false
   },
   "outputs": [
    {
     "name": "stdout",
     "output_type": "stream",
     "text": [
      "Decoded mesage: I love skiing but math more!\n",
      "Signature valid? True\n"
     ]
    }
   ],
   "source": [
    "# Teammate verification\n",
    "E = (0, 7)  # Elliptic curve parameters (A, B)\n",
    "p = 115792089237316195423570985008687907853269984665640564039457584007908834671663  # Prime\n",
    "G = [55066263022277343669578718895168534326250603453777594175500187360389116729240, \n",
    "     32670510020758816978083085130507043184471273380659243275938904335757337482424]  # Base point\n",
    "q = 115792089237316195423570985008687907852837564279074904382605163141518161494337  # Order of the base point\n",
    "\n",
    "# Teammate verification key V\n",
    "V = [5469354999477520499808945503844887930789204270483675984714990294151760081120,\n",
    "     98402707874290859821231649702763060152057496858306507983104049581640518662498]\n",
    "\n",
    "# Teammate's document (D), signature (S1, S2), and public verification key (V)\n",
    "d = 3517038505505862061870514343128042740059425830670746877288434638921  # Document (integer form)\n",
    "s1 = 8859232831611590261127778634489611908135893482648293429253820460052211732410\n",
    "s2 = 93469223044033998045414999494560080854886050858898810127590916951239653412991\n",
    "\n",
    "# Convert document to text and read message\n",
    "message = intToText(d)\n",
    "print(\"Decoded mesage:\", message)\n",
    "\n",
    "# Verify the signature\n",
    "valid = ECDSAVerify((E, p, G, q), V, d, [s1, s2])\n",
    "\n",
    "# Result\n",
    "print(\"Signature valid?\", valid)"
   ]
  },
  {
   "cell_type": "code",
   "execution_count": null,
   "id": "b2c51d",
   "metadata": {
    "collapsed": false
   },
   "outputs": [
    {
     "name": "stdout",
     "output_type": "stream",
     "text": [
      "Recovered ephemeral key e:  31415962\n",
      "Recovered signing key s:  123456789\n"
     ]
    }
   ],
   "source": [
    "# Testing\n",
    "# Parameters for question 8\n",
    "# Bitcoin curve order q\n",
    "q = 115792089237316195423570985008687907852837564279074904382605163141518161494337\n",
    "\n",
    "# Public verification key \n",
    "V = [4051293998585674784991639592782214972820158391371785981004352359465450369227,\n",
    "     88166831356626186178414913298033275054086243781277878360288998796587140930350]\n",
    "\n",
    "# Documents\n",
    "d1 = 36762444129640\n",
    "d2 = 10346484809526143861289411944\n",
    "\n",
    "# Signatures\n",
    "s1 = dSig[0]\n",
    "s2 = dSig[1]\n",
    "s2_prime = dPrimeSig[1]\n",
    "\n",
    "# Recover ehpemeral key e\n",
    "numerator = (d1-d2) % q\n",
    "denominator = (s2 - s2_prime) % q\n",
    "den_inv = modInverse(denominator, q) \n",
    "e = (numerator * den_inv) % q\n",
    "\n",
    "# Recover secret signing key s\n",
    "s1_inv = modInverse(s1, q)\n",
    "s = ((s2 * e - d1)* s1_inv) % q\n",
    "\n",
    "print(\"Recovered ephemeral key e: \", e)\n",
    "print(\"Recovered signing key s: \", s)"
   ]
  }
 ],
 "metadata": {
  "kernelspec": {
   "argv": [
    "sage-10.0",
    "--python",
    "-m",
    "sage.repl.ipython_kernel",
    "--matplotlib=inline",
    "-f",
    "{connection_file}"
   ],
   "display_name": "SageMath 10.0",
   "env": {},
   "language": "sagemath",
   "metadata": {
    "cocalc": {
     "description": "Open-source mathematical software system",
     "priority": 1,
     "url": "https://www.sagemath.org/"
    }
   },
   "name": "sage-10.0",
   "resource_dir": "/ext/jupyter/kernels/sage-10.0"
  },
  "language_info": {
   "codemirror_mode": {
    "name": "ipython",
    "version": 3
   },
   "file_extension": ".py",
   "mimetype": "text/x-python",
   "name": "python",
   "nbconvert_exporter": "python",
   "pygments_lexer": "ipython3",
   "version": "3.11.1"
  }
 },
 "nbformat": 4,
 "nbformat_minor": 4
}
